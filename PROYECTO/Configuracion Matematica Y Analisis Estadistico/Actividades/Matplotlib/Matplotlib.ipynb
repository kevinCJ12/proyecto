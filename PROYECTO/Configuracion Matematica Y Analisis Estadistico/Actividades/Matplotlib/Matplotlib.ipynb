{
  "nbformat": 4,
  "nbformat_minor": 0,
  "metadata": {
    "colab": {
      "name": "Matplotlib.ipynb",
      "provenance": []
    },
    "kernelspec": {
      "name": "python3",
      "display_name": "Python 3"
    },
    "language_info": {
      "name": "python"
    }
  },
  "cells": [
    {
      "cell_type": "code",
      "execution_count": 8,
      "metadata": {
        "id": "C2nvMaMSvQNR"
      },
      "outputs": [],
      "source": [
        "import matplotlib.pyplot as plt"
      ]
    },
    {
      "cell_type": "markdown",
      "source": [
        "Line Plot\n"
      ],
      "metadata": {
        "id": "EUSD7Yodz78W"
      }
    },
    {
      "cell_type": "code",
      "source": [
        "plt.figure(figsize=(10, 6))\n",
        "x = [2016, 2017, 2018, 2019, 2020, 2021]\n",
        "y = [42, 43, 45, 47, 48, 50]\n",
        "\n",
        "x2 = [2016, 2017, 2018, 2019, 2020, 2021]\n",
        "y2 = [43, 43, 44, 44, 45, 45]\n",
        "\n",
        "plt.plot(x, y, marker='o', linestyle='--', color='g', label='Colombia')\n",
        "plt.plot(x2, y2, marker='d', linestyle='-', color='r', label='Argentina')\n",
        "\n",
        "plt.xlabel('Años')\n",
        "plt.ylabel('Poblacion (M)')\n",
        "plt.title('Años vs Poblacion')\n",
        "plt.legend(loc='lower right')\n",
        "\n",
        "plt.yticks([41, 45, 48, 51])\n",
        "\n",
        "plt.savefig('ejemplo.png')\n",
        "\n",
        "plt.show()"
      ],
      "metadata": {
        "id": "1l1WuW2Ax__o"
      },
      "execution_count": null,
      "outputs": []
    },
    {
      "cell_type": "markdown",
      "source": [
        "Subplots\n"
      ],
      "metadata": {
        "id": "aHN2ktc7z-p7"
      }
    },
    {
      "cell_type": "code",
      "source": [
        "fig, ax = plt.subplots(1, 2, sharey=True, figsize=(12, 4)\n",
        "\n",
        "ax[0].plot(x, y, color='g', label='Colombia')\n",
        "ax[0].legend()\n",
        "\n",
        "ax[1].plot(x2, y2, color='r', label='Argentina')\n",
        "ax[1].legend()\n",
        "\n",
        "plt.show()"
      ],
      "metadata": {
        "id": "km26bJBaykFE"
      },
      "execution_count": null,
      "outputs": []
    },
    {
      "cell_type": "markdown",
      "source": [
        "Bar Plots\n"
      ],
      "metadata": {
        "id": "KGojPCkW0FjI"
      }
    },
    {
      "cell_type": "code",
      "source": [
        "x = ['Argentina', 'Colombia', 'Peru']\n",
        "y = [40, 50, 33]\n",
        "plt.bar(x, y)\n",
        "plt.show()"
      ],
      "metadata": {
        "id": "jQorNuoNy_Ik"
      },
      "execution_count": null,
      "outputs": []
    },
    {
      "cell_type": "markdown",
      "source": [
        "Piecharts"
      ],
      "metadata": {
        "id": "-5lUUpQm0J5f"
      }
    },
    {
      "cell_type": "code",
      "source": [
        "plt.pie(y, labels=x, autopct='%.0f %%')\n",
        "plt.show()"
      ],
      "metadata": {
        "id": "_R1Bi5euzZl6"
      },
      "execution_count": null,
      "outputs": []
    },
    {
      "cell_type": "markdown",
      "source": [
        "Histogram"
      ],
      "metadata": {
        "id": "mjaRVSDi0OEG"
      }
    },
    {
      "cell_type": "code",
      "source": [
        "edades = [15, 16, 17, 20, 21, 21, 22, 23, 24 ,25, 26, 30, 31, 32, 35]\n",
        "bins = [15, 20, 25, 30, 35] \n",
        "\n",
        "plt.hist(edades, bins, edgecolor='black')\n",
        "plt.show()"
      ],
      "metadata": {
        "id": "8747eg3Pzah8"
      },
      "execution_count": null,
      "outputs": []
    },
    {
      "cell_type": "markdown",
      "source": [
        "Boxplots"
      ],
      "metadata": {
        "id": "9PkMdMf30SAU"
      }
    },
    {
      "cell_type": "code",
      "source": [
        "edades = [15, 16, 17, 20, 21, 21, 22, 23, 24 ,25, 26, 30, 31, 32, 35, 70] \n",
        "\n",
        "plt.boxplot(edades)\n",
        "plt.show()"
      ],
      "metadata": {
        "colab": {
          "base_uri": "https://localhost:8080/",
          "height": 265
        },
        "id": "Sp32pRS6z4GO",
        "outputId": "2ab8b4d6-13d0-4b84-d3cf-86216b0925f7"
      },
      "execution_count": 15,
      "outputs": [
        {
          "output_type": "display_data",
          "data": {
            "image/png": "[encoded data removed]",
            "text/plain": [
              "<Figure size 432x288 with 1 Axes>"
            ]
          },
          "metadata": {
            "needs_background": "light"
          }
        }
      ]
    },
    {
      "cell_type": "markdown",
      "source": [
        "Scatterplot"
      ],
      "metadata": {
        "id": "V4xCVxPr0bNr"
      }
    },
    {
      "cell_type": "code",
      "source": [
        "a = [1, 2, 3, 4, 5, 4, 3 ,2 ,2, 4, 5, 6, 7]\n",
        "b = [7, 2, 3, 5, 5, 7, 3, 2, 1, 4, 6, 3, 2]\n",
        "\n",
        "plt.scatter(a, b)\n",
        "plt.show()"
      ],
      "metadata": {
        "colab": {
          "base_uri": "https://localhost:8080/",
          "height": 265
        },
        "id": "CyzHPaIZ0eqF",
        "outputId": "83d52da9-a4a4-47db-9459-74fdb960f79c"
      },
      "execution_count": 14,
      "outputs": [
        {
          "output_type": "display_data",
          "data": {
            "image/png": "[encoded data removed]",
            "text/plain": [
              "<Figure size 432x288 with 1 Axes>"
            ]
          },
          "metadata": {
            "needs_background": "light"
          }
        }
      ]
    }
  ]
}